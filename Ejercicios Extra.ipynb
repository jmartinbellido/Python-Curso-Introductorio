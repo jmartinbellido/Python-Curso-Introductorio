{
  "cells": [
    {
      "cell_type": "markdown",
      "source": [
        "\n",
        "# **Introducción a Python para Análisis de Datos**\n",
        "## Ejecicios Extra\n",
        "---\n",
        "**Autor:** Juan Martin Bellido  \n",
        "\n",
        "**Descripción**  \n",
        "En este notebook bonus final pondremos en práctica conceptos adquiridos a lo largo del curso. \n",
        "\n",
        "**¿Feedback? ¿comentarios?** Por favor compártelo conmigo escribiéndome por [LinkedIn](https://www.linkedin.com/in/jmartinbellido/)  \n",
        "\n",
        "**Material Adicional**\n",
        "\n",
        "* [Guía Python Importar/Exportar DataFrames](https://datawizards.es/contenido/codigo-para-analisis-de-datos/guias/python-importar-exportar)\n",
        "* [Comandos Jupyter Notebook](https://datawizards.es/contenido/codigo-para-analisis-de-datos/guias/comandos-rapidos-jupyter)\n",
        "* [Sintaxis Markdown](https://datawizards.es/contenido/codigo-para-analisis-de-datos/guias/sintaxis-markdown)\n"
      ],
      "metadata": {
        "id": "Nepb2Ib3Qbga"
      }
    },
    {
      "cell_type": "markdown",
      "source": [
        "# Ejercicios\n",
        "---\n",
        "\n",
        "\n",
        "> 👉 Puedes encontrar las soluciones [aquí](https://nbviewer.org/github/jmartinbellido/Python-Curso-Introductorio/blob/main/Ejercicios%20Extra%20Soluciones.ipynb)"
      ],
      "metadata": {
        "id": "7DgnwW-Fyx7C"
      }
    },
    {
      "cell_type": "markdown",
      "source": [
        "### Ejercicio: *directores con mayor IMDB score*\n",
        "\n",
        "Calcular la mediana de *imdb score* según director, considerar únicamente las películas producidas en USA. \n",
        "\n",
        "¿Cuáles son los 10 directores con mayor *imdb score*?\n",
        "\n",
        "> https://data-wizards.s3.amazonaws.com/datasets/movies.csv"
      ],
      "metadata": {
        "id": "gKL5DzA1IE4L"
      }
    },
    {
      "cell_type": "code",
      "source": [
        "# importamos librerías\n",
        "import pandas as pd"
      ],
      "metadata": {
        "id": "tbnYfiL3HuTW"
      },
      "execution_count": null,
      "outputs": []
    },
    {
      "cell_type": "code",
      "source": [
        "# importamos df\n",
        "df_movies = pd.read_csv('https://data-wizards.s3.amazonaws.com/datasets/movies.csv')\n",
        "df_movies.dtypes"
      ],
      "metadata": {
        "colab": {
          "base_uri": "https://localhost:8080/"
        },
        "id": "Ns6QdLC6IER4",
        "outputId": "b40e708a-c0d1-403e-d46d-18eb3e96f948"
      },
      "execution_count": null,
      "outputs": [
        {
          "output_type": "execute_result",
          "data": {
            "text/plain": [
              "color                         object\n",
              "director_name                 object\n",
              "num_critic_for_reviews       float64\n",
              "duration                     float64\n",
              "director_facebook_likes      float64\n",
              "actor_3_facebook_likes       float64\n",
              "actor_2_name                  object\n",
              "actor_1_facebook_likes       float64\n",
              "gross                        float64\n",
              "genres                        object\n",
              "actor_1_name                  object\n",
              "movie_title                   object\n",
              "num_voted_users                int64\n",
              "cast_total_facebook_likes      int64\n",
              "actor_3_name                  object\n",
              "facenumber_in_poster         float64\n",
              "plot_keywords                 object\n",
              "movie_imdb_link               object\n",
              "num_user_for_reviews         float64\n",
              "language                      object\n",
              "country                       object\n",
              "content_rating                object\n",
              "budget                       float64\n",
              "title_year                   float64\n",
              "actor_2_facebook_likes       float64\n",
              "imdb_score                   float64\n",
              "aspect_ratio                 float64\n",
              "movie_facebook_likes           int64\n",
              "dtype: object"
            ]
          },
          "metadata": {},
          "execution_count": 3
        }
      ]
    },
    {
      "cell_type": "markdown",
      "source": [
        "### Ejercicio: *taxis*\n",
        "\n",
        "La tabla de datos a continuación contiene información de viajes en taxi; entre otras variables, contiene datos de propinas en cada viaje. \n",
        "\n",
        "*¿Cuáles son las variables con mayor correlación con la propina (\"tip\")?*\n",
        "\n",
        "\n",
        "\n",
        "> `df_taxis = sn.load_dataset('taxis')`\n",
        "\n",
        "\n"
      ],
      "metadata": {
        "id": "ErrnmmIEXK16"
      }
    },
    {
      "cell_type": "code",
      "source": [
        "# importamos librerías\n",
        "import pandas as pd\n",
        "import seaborn as sn"
      ],
      "metadata": {
        "id": "uTKanJgjQ9Ey"
      },
      "execution_count": null,
      "outputs": []
    },
    {
      "cell_type": "code",
      "source": [
        "# importamos dataframe\n",
        "df_taxis = sn.load_dataset('taxis')"
      ],
      "metadata": {
        "id": "tAX4NbyxXLew"
      },
      "execution_count": null,
      "outputs": []
    },
    {
      "cell_type": "markdown",
      "source": [
        "### Ejercicio: *propinas restaurant*\n",
        "\n",
        "La tabla de datos a continuación contiene información de propinas en un restaurante.  \n",
        "\n",
        "* Calcular el porcentaje de propina (*tip*) sobre el total de la factura (*total_bill*)\n",
        "* El porcentaje de propina sobre el total de factura, ¿es mayor durante fin de semana?\n",
        "\n",
        "> `df_tips = sn.load_dataset('tips')`\n"
      ],
      "metadata": {
        "id": "mIF9axVPalWm"
      }
    },
    {
      "cell_type": "code",
      "source": [
        "# importamos librerías\n",
        "import pandas as pd\n",
        "import seaborn as sn\n",
        "import numpy as np"
      ],
      "metadata": {
        "id": "g9kdEC9gciHH"
      },
      "execution_count": null,
      "outputs": []
    },
    {
      "cell_type": "code",
      "source": [
        "# importamos dataframe\n",
        "df_tips = sn.load_dataset('tips')\n",
        "df_tips.dtypes"
      ],
      "metadata": {
        "id": "S4FsherLaiEt"
      },
      "execution_count": null,
      "outputs": []
    },
    {
      "cell_type": "markdown",
      "source": [
        "### Ejercicio: *MSC Cruceros*\n",
        "\n",
        "El sector turismo fue uno de los más perjudicados durante la pandemia del COVID-19. Tomaremos como referencia *MSC Cruceros*, una de las empresas más grandes del sector. \n",
        "\n",
        "Construir un gráfico de serie temporal con la media semanal de cotización a la apertura de mercado (*Open*):\n",
        "- Incluir datos para 2020\n",
        "- Incluir una serie con datos para el año anterior (2019)\n",
        "- Incluir una línea vertical en la semana 5, señalando la fecha del inicio de confinamiento en España\n",
        "   \n",
        "<br />\n",
        "\n",
        "<img src=\"https://data-wizards.s3.amazonaws.com/img/matplotlib/msc_cruises_pandemic.png\" alt=\"drawing\" width=\"700\"/>\n",
        "\n"
      ],
      "metadata": {
        "id": "-q38M6iORfBy"
      }
    },
    {
      "cell_type": "code",
      "source": [
        "pip install yfinance"
      ],
      "metadata": {
        "id": "tYYAuIGkSgPg"
      },
      "execution_count": null,
      "outputs": []
    },
    {
      "cell_type": "code",
      "source": [
        "# importamos librerías\n",
        "import pandas as pd\n",
        "import matplotlib.pyplot as plt\n",
        "import yfinance as yf\n"
      ],
      "metadata": {
        "id": "oXmVJT2tSX0v"
      },
      "execution_count": null,
      "outputs": []
    },
    {
      "cell_type": "code",
      "source": [
        "%matplotlib inline"
      ],
      "metadata": {
        "id": "dlQXLX7l5Ou6"
      },
      "execution_count": null,
      "outputs": []
    },
    {
      "cell_type": "code",
      "source": [
        "# extraemos datos para Pfizer\n",
        "data_msc = yf.download('MSM', start='2019-01-01', end='2020-12-31')\n",
        "data_msc.dtypes"
      ],
      "metadata": {
        "id": "9jg_q3DP5Ps5"
      },
      "execution_count": null,
      "outputs": []
    },
    {
      "cell_type": "markdown",
      "source": [
        "### Ejercicio: *PIB per cápita*\n",
        "\n",
        "Construir dos gráficos de barra utilizando Matplotlib para visualizar la media del PIB per cápita (*Gross national income per capita*).\n",
        "\n",
        "* Un primer gráfico de barra vertical con la media de PIB per cápita, según continente. Señalar Europa con un color diferente\n",
        "\n",
        "* Un gráfico de barra horizontal con el PIB per cápita de cada país europeo  \n",
        "\n",
        "> https://data-wizards.s3.amazonaws.com/datasets/dataset_na_who.csv\n",
        "\n",
        "<img src=\"https://data-wizards.s3.amazonaws.com/img/matplotlib/ex_gdp_per_capita.png\" alt=\"drawing\" width=\"700\"/>\n"
      ],
      "metadata": {
        "id": "i0bzpD4GQ64e"
      }
    },
    {
      "cell_type": "code",
      "source": [
        "# importamos librerías\n",
        "import pandas as pd\n",
        "import matplotlib.pyplot as plt"
      ],
      "metadata": {
        "id": "QVVzjc3zIQKD"
      },
      "execution_count": null,
      "outputs": []
    },
    {
      "cell_type": "code",
      "source": [
        "%matplotlib inline"
      ],
      "metadata": {
        "id": "MskrRv_z4Ube"
      },
      "execution_count": null,
      "outputs": []
    },
    {
      "cell_type": "code",
      "source": [
        "# importamos dataframe\n",
        "df_who = pd.read_csv(\"https://data-wizards.s3.amazonaws.com/datasets/dataset_na_who.csv\")\n",
        "df_who.dtypes"
      ],
      "metadata": {
        "colab": {
          "base_uri": "https://localhost:8080/"
        },
        "id": "6GWGO4yBQ8-C",
        "outputId": "17f533bd-d40e-4056-8162-8e3c0644ba06"
      },
      "execution_count": null,
      "outputs": [
        {
          "output_type": "execute_result",
          "data": {
            "text/plain": [
              "Country                                                    object\n",
              "CountryID                                                   int64\n",
              "ContinentID                                                 int64\n",
              "Adolescent fertility rate (%)                             float64\n",
              "Adult literacy rate (%)                                   float64\n",
              "Gross national income per capita (PPP international $)    float64\n",
              "Net primary school enrolment ratio female (%)             float64\n",
              "Net primary school enrolment ratio male (%)               float64\n",
              "Population (in thousands) total                           float64\n",
              "Population annual growth rate (%)                         float64\n",
              "Population in urban areas (%)                             float64\n",
              "Population living below the poverty line                  float64\n",
              "Continent                                                  object\n",
              "dtype: object"
            ]
          },
          "metadata": {},
          "execution_count": 3
        }
      ]
    }
  ],
  "metadata": {
    "colab": {
      "collapsed_sections": [],
      "provenance": [],
      "toc_visible": true
    },
    "kernelspec": {
      "display_name": "Python 3",
      "language": "python",
      "name": "python3"
    },
    "language_info": {
      "codemirror_mode": {
        "name": "ipython",
        "version": 3
      },
      "file_extension": ".py",
      "mimetype": "text/x-python",
      "name": "python",
      "nbconvert_exporter": "python",
      "pygments_lexer": "ipython3",
      "version": "3.8.8"
    }
  },
  "nbformat": 4,
  "nbformat_minor": 0
}